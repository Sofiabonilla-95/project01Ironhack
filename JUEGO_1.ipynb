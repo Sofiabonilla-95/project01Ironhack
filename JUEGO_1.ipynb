{
 "cells": [
  {
   "cell_type": "code",
   "execution_count": 42,
   "id": "62a29009",
   "metadata": {},
   "outputs": [],
   "source": [
    "import math\n",
    "from random import choice\n",
    "import random\n",
    "\n",
    "cartas_truco={'1 de Espada':14,'1 de Basto':13,'7 de Espada':12,'7 de Oro':11,'3 de Espada':10,'3 de Oro':10,'3 de Copa':10,\n",
    "              '3 de Basto':10,' 2 de Espada':9,'2 de Oro':9,' 2 de Copa':9,' 2 de Basto':9,'1 de Copa':8,'1 de Oro':8,\n",
    "     '12 de Espada':7,'12 de Oro':7,'12 de Copa':7,'12 de Basto':7,'11 de Espada':6,'11 de Oro':6,'11 de Copa':6,\n",
    "              '11 de Basto':6,'10 de Espada':5,'10 de Oro':5,'10 de Copa':5,'10 de Basto':5,'7 de Copa':4,'7 de Oro':4,\n",
    "    '6 de Espada':3,'6 de Oro':3,'6 de Copa':3,'6 de Basto':3,'5 de Espada':2,'5 de Oro':2,'5 de Copa':2,'5 de Basto':2,\n",
    "              '4 de Espada':1,'4 de Oro':1,'4 de Copa':1,'4 de Basto':1}"
   ]
  },
  {
   "cell_type": "code",
   "execution_count": 20,
   "id": "4c1b36bc",
   "metadata": {},
   "outputs": [
    {
     "name": "stdout",
     "output_type": "stream",
     "text": [
      "{'1 de Espada': 1, '1 de Basto': 2, '7 de Espada': 3, '7 de Oro': 11, '3 de Espada': 5, '3 de Oro': 5, '3 de Copa': 5, '3 de Basto': 5, ' 2 de Espada': 6, '2 de Oro': 6, ' 2 de Copa': 6, ' 2 de Basto': 6, '1 de Copa': 7, '1 de Oro': 7, '12 de Espada': 8, '12 de Oro': 8, '12 de Copa': 8, '12 de Basto': 8, '11 de Espada': 9, '11 de Oro': 9, '11 de Copa': 9, '11 de Basto': 9, '10 de Espada': 10, '10 de Oro': 10, '10 de Copa': 10, '10 de Basto': 10, '7 de Copa': 11, '6 de Espada': 12, '6 de Oro': 12, '6 de Copa': 12, '6 de Basto': 12, '5 de Espada': 13, '5 de Oro': 13, '5 de Copa': 13, '5 de Basto': 13, '4 de Espada': 14, '4 de Oro': 14, '4 de Copa': 14, '4 de Basto': 14}\n"
     ]
    }
   ],
   "source": [
    "print(cartas_truco)"
   ]
  },
  {
   "cell_type": "code",
   "execution_count": 41,
   "id": "fb105a8a",
   "metadata": {},
   "outputs": [
    {
     "name": "stdout",
     "output_type": "stream",
     "text": [
      "TRUCO\n"
     ]
    }
   ],
   "source": [
    "print('TRUCO')"
   ]
  },
  {
   "cell_type": "code",
   "execution_count": 4,
   "id": "4080a706",
   "metadata": {},
   "outputs": [
    {
     "name": "stdout",
     "output_type": "stream",
     "text": [
      "Ingrese Nombre: sofia\n"
     ]
    }
   ],
   "source": [
    "nombre=input(\"Ingrese Nombre: \")"
   ]
  },
  {
   "cell_type": "code",
   "execution_count": 6,
   "id": "807ce8b1",
   "metadata": {},
   "outputs": [
    {
     "name": "stdout",
     "output_type": "stream",
     "text": [
      "SOFIA Empecemos!\n"
     ]
    }
   ],
   "source": [
    "print(nombre.upper(),\"Empecemos!\")"
   ]
  },
  {
   "cell_type": "code",
   "execution_count": null,
   "id": "28e8d89c",
   "metadata": {},
   "outputs": [],
   "source": [
    "# SELECCIONAR EL NUMERO DE RONDAS"
   ]
  },
  {
   "cell_type": "code",
   "execution_count": 43,
   "id": "07e89e6e",
   "metadata": {},
   "outputs": [
    {
     "name": "stdout",
     "output_type": "stream",
     "text": [
      "Ingrese la cantidad de rondas que quiere jugar, recuerde que las rondas deben ser numeros impares:5\n",
      "Vamos a jugar: 5 rondas\n"
     ]
    }
   ],
   "source": [
    "n_rounds = input(\"Ingrese la cantidad de rondas que quiere jugar, recuerde que las rondas deben ser numeros impares:\")\n",
    "\n",
    "n_rounds= int(n_rounds)\n",
    "\n",
    "if n_rounds%2 == 0:\n",
    "    \n",
    "    print(\"Introduce un numero impar por favor\")\n",
    "else:\n",
    "\tprint(\"Vamos a jugar:\", n_rounds, \"rondas\")\n",
    "    \n",
    "\t"
   ]
  },
  {
   "cell_type": "code",
   "execution_count": null,
   "id": "d982c461",
   "metadata": {},
   "outputs": [],
   "source": [
    "# REPARTIR CARTAS AL JUGADOR"
   ]
  },
  {
   "cell_type": "code",
   "execution_count": 34,
   "id": "95532ed0",
   "metadata": {},
   "outputs": [],
   "source": [
    "def Jugador(cartas_truco):\n",
    "    random.shuffle(cartas_truco.items())\n",
    "    cart, cart2, cart3 = cartas_truco[:3]\n",
    "    return choice(cartas_truco)"
   ]
  },
  {
   "cell_type": "code",
   "execution_count": 35,
   "id": "2b24306c",
   "metadata": {},
   "outputs": [
    {
     "ename": "KeyError",
     "evalue": "24",
     "output_type": "error",
     "traceback": [
      "\u001b[1;31m---------------------------------------------------------------------------\u001b[0m",
      "\u001b[1;31mKeyError\u001b[0m                                  Traceback (most recent call last)",
      "\u001b[1;32m~\\AppData\\Local\\Temp/ipykernel_23712/1507314332.py\u001b[0m in \u001b[0;36m<module>\u001b[1;34m\u001b[0m\n\u001b[1;32m----> 1\u001b[1;33m \u001b[0mrandom\u001b[0m\u001b[1;33m.\u001b[0m\u001b[0mshuffle\u001b[0m\u001b[1;33m(\u001b[0m\u001b[0mcartas_truco\u001b[0m\u001b[1;33m)\u001b[0m\u001b[1;33m\u001b[0m\u001b[1;33m\u001b[0m\u001b[0m\n\u001b[0m",
      "\u001b[1;32m~\\AppData\\Local\\Programs\\Python\\Python39\\lib\\random.py\u001b[0m in \u001b[0;36mshuffle\u001b[1;34m(self, x, random)\u001b[0m\n\u001b[0;32m    360\u001b[0m                 \u001b[1;31m# pick an element in x[:i+1] with which to exchange x[i]\u001b[0m\u001b[1;33m\u001b[0m\u001b[1;33m\u001b[0m\u001b[1;33m\u001b[0m\u001b[0m\n\u001b[0;32m    361\u001b[0m                 \u001b[0mj\u001b[0m \u001b[1;33m=\u001b[0m \u001b[0mrandbelow\u001b[0m\u001b[1;33m(\u001b[0m\u001b[0mi\u001b[0m \u001b[1;33m+\u001b[0m \u001b[1;36m1\u001b[0m\u001b[1;33m)\u001b[0m\u001b[1;33m\u001b[0m\u001b[1;33m\u001b[0m\u001b[0m\n\u001b[1;32m--> 362\u001b[1;33m                 \u001b[0mx\u001b[0m\u001b[1;33m[\u001b[0m\u001b[0mi\u001b[0m\u001b[1;33m]\u001b[0m\u001b[1;33m,\u001b[0m \u001b[0mx\u001b[0m\u001b[1;33m[\u001b[0m\u001b[0mj\u001b[0m\u001b[1;33m]\u001b[0m \u001b[1;33m=\u001b[0m \u001b[0mx\u001b[0m\u001b[1;33m[\u001b[0m\u001b[0mj\u001b[0m\u001b[1;33m]\u001b[0m\u001b[1;33m,\u001b[0m \u001b[0mx\u001b[0m\u001b[1;33m[\u001b[0m\u001b[0mi\u001b[0m\u001b[1;33m]\u001b[0m\u001b[1;33m\u001b[0m\u001b[1;33m\u001b[0m\u001b[0m\n\u001b[0m\u001b[0;32m    363\u001b[0m         \u001b[1;32melse\u001b[0m\u001b[1;33m:\u001b[0m\u001b[1;33m\u001b[0m\u001b[1;33m\u001b[0m\u001b[0m\n\u001b[0;32m    364\u001b[0m             _warn('The *random* parameter to shuffle() has been deprecated\\n'\n",
      "\u001b[1;31mKeyError\u001b[0m: 24"
     ]
    }
   ],
   "source": [
    "random.shuffle(cartas_truco)"
   ]
  },
  {
   "cell_type": "code",
   "execution_count": 30,
   "id": "6dfcb114",
   "metadata": {},
   "outputs": [
    {
     "ename": "TypeError",
     "evalue": "'dict_keys' object is not subscriptable",
     "output_type": "error",
     "traceback": [
      "\u001b[1;31m---------------------------------------------------------------------------\u001b[0m",
      "\u001b[1;31mTypeError\u001b[0m                                 Traceback (most recent call last)",
      "\u001b[1;32m~\\AppData\\Local\\Temp/ipykernel_23712/1410055661.py\u001b[0m in \u001b[0;36m<module>\u001b[1;34m\u001b[0m\n\u001b[0;32m      1\u001b[0m \u001b[1;32mimport\u001b[0m \u001b[0mrandom\u001b[0m\u001b[1;33m\u001b[0m\u001b[1;33m\u001b[0m\u001b[0m\n\u001b[1;32m----> 2\u001b[1;33m \u001b[0mk\u001b[0m \u001b[1;33m=\u001b[0m \u001b[0mcartas_truco\u001b[0m\u001b[1;33m.\u001b[0m\u001b[0mkeys\u001b[0m\u001b[1;33m(\u001b[0m\u001b[1;33m)\u001b[0m\u001b[1;33m[\u001b[0m\u001b[0mrandom\u001b[0m\u001b[1;33m.\u001b[0m\u001b[0mrandint\u001b[0m\u001b[1;33m(\u001b[0m\u001b[1;36m0\u001b[0m\u001b[1;33m,\u001b[0m \u001b[0mlen\u001b[0m\u001b[1;33m(\u001b[0m\u001b[0mcartas_truco\u001b[0m\u001b[1;33m)\u001b[0m\u001b[1;33m)\u001b[0m\u001b[1;33m]\u001b[0m\u001b[1;33m\u001b[0m\u001b[1;33m\u001b[0m\u001b[0m\n\u001b[0m\u001b[0;32m      3\u001b[0m \u001b[0mv\u001b[0m \u001b[1;33m=\u001b[0m \u001b[0mcartas_truco\u001b[0m\u001b[1;33m[\u001b[0m\u001b[0mk\u001b[0m\u001b[1;33m]\u001b[0m\u001b[1;33m\u001b[0m\u001b[1;33m\u001b[0m\u001b[0m\n\u001b[0;32m      4\u001b[0m \u001b[0mk\u001b[0m\u001b[1;33m,\u001b[0m \u001b[0mv\u001b[0m\u001b[1;33m\u001b[0m\u001b[1;33m\u001b[0m\u001b[0m\n",
      "\u001b[1;31mTypeError\u001b[0m: 'dict_keys' object is not subscriptable"
     ]
    }
   ],
   "source": [
    "k = cartas_truco.keys()[random.randint(0, len(cartas_truco))]\n",
    "v = cartas_truco[k]\n",
    "k, v"
   ]
  },
  {
   "cell_type": "code",
   "execution_count": 39,
   "id": "0b2e8ecb",
   "metadata": {},
   "outputs": [],
   "source": [
    "k=cartas_truco.keys()"
   ]
  },
  {
   "cell_type": "code",
   "execution_count": 40,
   "id": "52ce5a42",
   "metadata": {},
   "outputs": [
    {
     "name": "stdout",
     "output_type": "stream",
     "text": [
      "dict_keys(['1 de Espada', '1 de Basto', '7 de Espada', '7 de Oro', '3 de Espada', '3 de Oro', '3 de Copa', '3 de Basto', ' 2 de Espada', '2 de Oro', ' 2 de Copa', ' 2 de Basto', '1 de Copa', '1 de Oro', '12 de Espada', '12 de Oro', '12 de Copa', '12 de Basto', '11 de Espada', '11 de Oro', '11 de Copa', '11 de Basto', '10 de Espada', '10 de Oro', '10 de Copa', '10 de Basto', '7 de Copa', '6 de Espada', '6 de Oro', '6 de Copa', '6 de Basto', '5 de Espada', '5 de Oro', '5 de Copa', '5 de Basto', '4 de Espada', '4 de Oro', '4 de Copa', '4 de Basto'])\n"
     ]
    }
   ],
   "source": [
    "print(k)"
   ]
  },
  {
   "cell_type": "code",
   "execution_count": null,
   "id": "50d582b4",
   "metadata": {},
   "outputs": [],
   "source": []
  }
 ],
 "metadata": {
  "kernelspec": {
   "display_name": "Python 3 (ipykernel)",
   "language": "python",
   "name": "python3"
  },
  "language_info": {
   "codemirror_mode": {
    "name": "ipython",
    "version": 3
   },
   "file_extension": ".py",
   "mimetype": "text/x-python",
   "name": "python",
   "nbconvert_exporter": "python",
   "pygments_lexer": "ipython3",
   "version": "3.9.6"
  }
 },
 "nbformat": 4,
 "nbformat_minor": 5
}
